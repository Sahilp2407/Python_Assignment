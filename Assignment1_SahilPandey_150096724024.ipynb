{
 "cells": [
  {
   "cell_type": "code",
   "execution_count": 1,
   "metadata": {},
   "outputs": [
    {
     "name": "stdout",
     "output_type": "stream",
     "text": [
      "5 is a odd nuumber\n"
     ]
    }
   ],
   "source": [
    "#1. To check waether a number is even or odd\n",
    "num = int(input(\"Enter a number\"))\n",
    "if num%2==0:\n",
    "    print(f\"{num} is a even number\")\n",
    "else:\n",
    "    print(f\"{num} is a odd nuumber\")"
   ]
  },
  {
   "cell_type": "code",
   "execution_count": 2,
   "metadata": {},
   "outputs": [
    {
     "name": "stdout",
     "output_type": "stream",
     "text": [
      "The person is eligible for voting\n"
     ]
    }
   ],
   "source": [
    "#2. To check weather the person is eligible for voting\n",
    "num = int(input(\"Enter your age\"))\n",
    "if num<18:\n",
    "    print(\"The person is not eligible for voting\")\n",
    "else:\n",
    "    print(\"The person is eligible for voting\")"
   ]
  },
  {
   "cell_type": "code",
   "execution_count": 3,
   "metadata": {},
   "outputs": [
    {
     "name": "stdout",
     "output_type": "stream",
     "text": [
      "The day is: Friday\n"
     ]
    }
   ],
   "source": [
    "#3. To enter number and print the day accordingly using elif\n",
    "days_of_week = [\"Monday\", \"Tuesday\", \"Wednesday\", \"Thursday\", \"Friday\", \"Saturday\", \"Sunday\"]\n",
    "day_number = int(input(\"Enter a number between 1 and 7: \"))\n",
    "if day_number == 1:\n",
    "    print(f\"The day is: {days_of_week[0]}\")\n",
    "elif day_number == 2:\n",
    "    print(f\"The day is: {days_of_week[1]}\")\n",
    "elif day_number == 3:\n",
    "    print(f\"The day is: {days_of_week[2]}\")\n",
    "elif day_number == 4:\n",
    "    print(f\"The day is: {days_of_week[3]}\")\n",
    "elif day_number == 5:\n",
    "    print(f\"The day is: {days_of_week[4]}\")\n",
    "elif day_number == 6:\n",
    "    print(f\"The day is: {days_of_week[5]}\")\n",
    "elif day_number == 7:\n",
    "    print(f\"The day is: {days_of_week[6]}\")\n",
    "else:\n",
    "    print(\"Invalid number. Please enter a number between 1 and 7.\")"
   ]
  },
  {
   "cell_type": "code",
   "execution_count": 5,
   "metadata": {},
   "outputs": [
    {
     "name": "stdout",
     "output_type": "stream",
     "text": [
      "The day is: Thursday\n"
     ]
    }
   ],
   "source": [
    "#4. To enter number and print the day accordingly using match case\n",
    "days_of_week = [\"Monday\", \"Tuesday\", \"Wednesday\", \"Thursday\", \"Friday\", \"Saturday\", \"Sunday\"]\n",
    "day_number = int(input(\"Enter a number between 1 and 7: \"))\n",
    "match day_number:\n",
    "    case 1:\n",
    "        print(f\"The day is: {days_of_week[0]}\")\n",
    "    case 2:\n",
    "        print(f\"The day is: {days_of_week[1]}\")\n",
    "    case 3:\n",
    "        print(f\"The day is: {days_of_week[2]}\")\n",
    "    case 4:\n",
    "        print(f\"The day is: {days_of_week[3]}\")\n",
    "    case 5:\n",
    "        print(f\"The day is: {days_of_week[4]}\")\n",
    "    case 6:\n",
    "        print(f\"The day is: {days_of_week[5]}\")\n",
    "    case 7:\n",
    "        print(f\"The day is: {days_of_week[6]}\")\n",
    "    case _:\n",
    "        print(\"Invalid number. Please enter a number between 1 and 7.\")"
   ]
  },
  {
   "cell_type": "code",
   "execution_count": 6,
   "metadata": {},
   "outputs": [
    {
     "name": "stdout",
     "output_type": "stream",
     "text": [
      "2013 is not a leap year.\n"
     ]
    }
   ],
   "source": [
    "#5. To check waether the entered year is a leap year\n",
    "year = int(input(\"Enter a year\"))\n",
    "if (year%400==0) or (year%4==0 and year%100!=0):\n",
    "    print(f\"{year} is a leap year.\")\n",
    "else:\n",
    "    print(f\"{year} is not a leap year.\")"
   ]
  },
  {
   "cell_type": "code",
   "execution_count": 8,
   "metadata": {},
   "outputs": [
    {
     "name": "stdout",
     "output_type": "stream",
     "text": [
      "Average Marks: 47.0\n",
      "Grade: F\n"
     ]
    }
   ],
   "source": [
    "#6. To enter marks of 5 subjects, compute average and display grade using elif\n",
    "marks = []\n",
    "for i in range(1, 6):\n",
    "    subject_mark = float(input(f\"Enter marks for subject {i}: \"))\n",
    "    marks.append(subject_mark)\n",
    "    \n",
    "average = sum(marks) / len(marks)\n",
    "if average >= 90:\n",
    "    grade = \"A\"\n",
    "elif average >= 80:\n",
    "    grade = \"B\"\n",
    "elif average >= 70:\n",
    "    grade = \"C\"\n",
    "elif average >= 60:\n",
    "    grade = \"D\"\n",
    "else:\n",
    "    grade = \"F\"\n",
    "    \n",
    "print(f\"Average Marks: {average}\")\n",
    "print(f\"Grade: {grade}\")"
   ]
  },
  {
   "cell_type": "code",
   "execution_count": 9,
   "metadata": {},
   "outputs": [
    {
     "name": "stdout",
     "output_type": "stream",
     "text": [
      "e is a vowel.\n"
     ]
    }
   ],
   "source": [
    "#7. To check if a character is a vowel or consonant\n",
    "char = input(\"Enter a character: \").lower()\n",
    "if char == 'a' or char == 'e' or char == 'i' or char == 'o' or char == 'u':\n",
    "    print(f\"{char} is a vowel.\")\n",
    "else:\n",
    "    print(f\"{char} is a consonant.\")"
   ]
  },
  {
   "cell_type": "code",
   "execution_count": 10,
   "metadata": {},
   "outputs": [
    {
     "name": "stdout",
     "output_type": "stream",
     "text": [
      "30 found in the list.\n"
     ]
    }
   ],
   "source": [
    "#8. To search an element in a list\n",
    "my_list = [10, 20, 30, 40, 50]\n",
    "element = int(input(\"Enter the element to search: \"))\n",
    "for item in my_list:\n",
    "    if item == element:\n",
    "        print(f\"{element} found in the list.\")\n",
    "        break\n",
    "else:\n",
    "    print(f\"{element} not found in the list.\")"
   ]
  },
  {
   "cell_type": "code",
   "execution_count": 11,
   "metadata": {},
   "outputs": [
    {
     "name": "stdout",
     "output_type": "stream",
     "text": [
      "Eight\n"
     ]
    }
   ],
   "source": [
    "#9. To take a single digit number from the key board and print its spelling in English word\n",
    "digit = int(input(\"Enter a single digit number (0-9): \"))\n",
    "if digit == 0:\n",
    "    print(\"Zero\")\n",
    "elif digit == 1:\n",
    "    print(\"One\")\n",
    "elif digit == 2:\n",
    "    print(\"Two\")\n",
    "elif digit == 3:\n",
    "    print(\"Three\")\n",
    "elif digit == 4:\n",
    "    print(\"Four\")\n",
    "elif digit == 5:\n",
    "    print(\"Five\")\n",
    "elif digit == 6:\n",
    "    print(\"Six\")\n",
    "elif digit == 7:\n",
    "    print(\"Seven\")\n",
    "elif digit == 8:\n",
    "    print(\"Eight\")\n",
    "elif digit == 9:\n",
    "    print(\"Nine\")\n",
    "else:\n",
    "    print(\"Please enter a valid single digit number (0-9).\")"
   ]
  },
  {
   "cell_type": "code",
   "execution_count": 12,
   "metadata": {},
   "outputs": [
    {
     "name": "stdout",
     "output_type": "stream",
     "text": [
      "The min, mid, max are 2, 3, 8\n"
     ]
    }
   ],
   "source": [
    "#10. To input three numbers and arrange them in ascending numbers.\n",
    "x, y, z = map(int, input(\"Enter three digits\").split())\n",
    "min=mid=max=None\n",
    "if x<y and x<z:\n",
    "    if y<z:\n",
    "        min, mid, max = x, y ,z\n",
    "    else:\n",
    "        min, mid, max = x, z, y\n",
    "elif y<x and y<z:\n",
    "    if x<z:\n",
    "        min, mid, max = y, x, z \n",
    "    else:\n",
    "        min, mid, max = y, z, x\n",
    "elif z<x and z<y:\n",
    "     if x<y:\n",
    "        min, mid, max = z, x, y\n",
    "     else:\n",
    "        min, mid, max = z, y, x\n",
    "print(f\"The min, mid, max are {min}, {mid}, {max}\")"
   ]
  },
  {
   "cell_type": "code",
   "execution_count": 13,
   "metadata": {},
   "outputs": [
    {
     "name": "stdout",
     "output_type": "stream",
     "text": [
      "Five\n"
     ]
    }
   ],
   "source": [
    "#11. To take a single digit number from the key board and print its spelling in English word using match case\n",
    "digit = int(input(\"Enter a single digit number (0-9): \"))\n",
    "match digit:\n",
    "    case 0:\n",
    "        print(\"Zero\")\n",
    "    case 1:\n",
    "        print(\"One\")\n",
    "    case 2:\n",
    "        print(\"Two\")\n",
    "    case 3:\n",
    "        print(\"Three\")\n",
    "    case 4:\n",
    "        print(\"Four\")\n",
    "    case 5:\n",
    "        print(\"Five\")\n",
    "    case 6:\n",
    "        print(\"Six\")\n",
    "    case 7:\n",
    "        print(\"Seven\")\n",
    "    case 8:\n",
    "        print(\"Eight\")\n",
    "    case 9:\n",
    "        print(\"Nine\")\n",
    "    case _:\n",
    "        print(\"Please enter a valid single digit number (0-9).\")"
   ]
  },
  {
   "cell_type": "code",
   "execution_count": 14,
   "metadata": {},
   "outputs": [
    {
     "name": "stdout",
     "output_type": "stream",
     "text": [
      "The result of 3.0 * 4.0 is: 12.0\n"
     ]
    }
   ],
   "source": [
    "#12. To read two numbers and arithmetic operator [+,-,*,/,%] perform the operation and display the computed result. \n",
    "num1 = float(input(\"Enter the first number: \"))\n",
    "num2 = float(input(\"Enter the second number: \"))\n",
    "operator = input(\"Enter an operator (+, -, *, /): \")\n",
    "match operator:\n",
    "    case \"+\":\n",
    "        result = num1 + num2\n",
    "        print(f\"The result of {num1} + {num2} is: {result}\")\n",
    "    case \"-\":\n",
    "        result = num1 - num2\n",
    "        print(f\"The result of {num1} - {num2} is: {result}\")\n",
    "    case \"*\":\n",
    "        result = num1 * num2\n",
    "        print(f\"The result of {num1} * {num2} is: {result}\")\n",
    "    case \"/\":\n",
    "        if num2 != 0:  # To prevent division by zero\n",
    "            result = num1 / num2\n",
    "            print(f\"The result of {num1} / {num2} is: {result}\")\n",
    "        else:\n",
    "            print(\"Error: Division by zero is not allowed.\")\n",
    "    case _:\n",
    "        print(\"Invalid operator. Please enter one of (+, -, *, /).\")"
   ]
  },
  {
   "cell_type": "code",
   "execution_count": 15,
   "metadata": {},
   "outputs": [
    {
     "name": "stdout",
     "output_type": "stream",
     "text": [
      "The character 'P' is uppercase.\n"
     ]
    }
   ],
   "source": [
    "#13. to check whether a inputted character is uppercase or lowercase or digit or any other character\n",
    "char = input(\"Enter a character: \")\n",
    "if len(char) != 1:  \n",
    "    print(\"Enter a single character.\")\n",
    "else:\n",
    "    if char.isupper():\n",
    "        print(f\"The character '{char}' is uppercase.\")\n",
    "    elif char.islower():\n",
    "        print(f\"The character '{char}' is lowercase.\")\n",
    "    elif char.isdigit():\n",
    "        print(f\"The character '{char}' is a digit.\")\n",
    "    else:\n",
    "        print(f\"The character '{char}' is neither uppercase, lowercase, nor a digit.\")"
   ]
  },
  {
   "cell_type": "code",
   "execution_count": 16,
   "metadata": {},
   "outputs": [
    {
     "name": "stdout",
     "output_type": "stream",
     "text": [
      "You guessed it! The secret number is 5\n"
     ]
    }
   ],
   "source": [
    "#14. A number guessing game \n",
    "from random import randint\n",
    "low, high = 1, 10\n",
    "secret_number = randint(low, high)\n",
    "attempts = 5 \n",
    "for attempt in range(attempts):\n",
    "    guess = input(f\"Attempt {attempt + 1}/{attempts}: Guess a number between {low} and {high}: \")\n",
    "    number = int(guess)\n",
    "    \n",
    "    if number > secret_number:\n",
    "        print(f\"Secret number is less than {number}\")\n",
    "    elif number < secret_number:\n",
    "        print(f\"Secret number is greater than {number}\")\n",
    "    else:\n",
    "        print(f\"You guessed it! The secret number is {number}\")\n",
    "        break\n",
    "else:\n",
    "    print(f\"Sorry, you've used all your attempts. The secret number was {secret_number}.\")\n"
   ]
  },
  {
   "cell_type": "code",
   "execution_count": 18,
   "metadata": {},
   "outputs": [
    {
     "name": "stdout",
     "output_type": "stream",
     "text": [
      "Enter correct username and password combination\n",
      "\n",
      "\n",
      "Access granted\n"
     ]
    }
   ],
   "source": [
    "#15. To enter name and password until it enters \"stud\" in name and \"pass\" in password. Allow only five attempts\n",
    "print(\"Enter correct username and password combination\")\n",
    "print(\"\\n\")\n",
    "count = 0\n",
    "max_attempts = 5\n",
    "while count < max_attempts:\n",
    "    name, password = input(\"Enter username and password: \").split()\n",
    "    if name == \"stud\" and password == \"pass\":\n",
    "        print(\"Access granted\")\n",
    "        break\n",
    "    else:\n",
    "        count += 1\n",
    "        if count == max_attempts:\n",
    "            print(\"Access denied\")\n",
    "        else:\n",
    "            print(f\"Attempts left: {max_attempts - count}\")"
   ]
  },
  {
   "cell_type": "code",
   "execution_count": 20,
   "metadata": {},
   "outputs": [
    {
     "name": "stdout",
     "output_type": "stream",
     "text": [
      "15 14 13 12 11 10 9 8 7 6 5 4 3 2 1 "
     ]
    }
   ],
   "source": [
    "#16. To display numbers from 15 to 1 in decendng order\n",
    "for i in range(15, 0, -1):\n",
    "    print(i, end=\" \")"
   ]
  },
  {
   "cell_type": "code",
   "execution_count": 21,
   "metadata": {},
   "outputs": [
    {
     "name": "stdout",
     "output_type": "stream",
     "text": [
      "The sum of numbers from 11 to 200 is: 20045\n"
     ]
    }
   ],
   "source": [
    "#17. To display sum of numbers from 11 to 200 using for loop.\n",
    "total_sum = 0\n",
    "for number in range(11, 201):\n",
    "    total_sum += number\n",
    "print(f\"The sum of numbers from 11 to 200 is: {total_sum}\")"
   ]
  },
  {
   "cell_type": "code",
   "execution_count": 22,
   "metadata": {},
   "outputs": [
    {
     "name": "stdout",
     "output_type": "stream",
     "text": [
      "The average of numbers from 5 to 15 and 21 to 60 is: 33.92\n"
     ]
    }
   ],
   "source": [
    "#18. To display average of numbers from 5 to 15 and 21 to 60.\n",
    "sum1 = 0\n",
    "count1 = 0\n",
    "for num in range(5, 16):\n",
    "    sum1 += num\n",
    "    count1 += 1\n",
    "sum2 = 0\n",
    "count2 = 0\n",
    "for num in range(21, 61):\n",
    "    sum2 += num\n",
    "    count2 += 1\n",
    "total_sum = sum1 + sum2\n",
    "total_count = count1 + count2\n",
    "avg = total_sum / total_count\n",
    "print(f\"The average of numbers from 5 to 15 and 21 to 60 is: {avg:.2f}\")"
   ]
  },
  {
   "cell_type": "code",
   "execution_count": 24,
   "metadata": {},
   "outputs": [
    {
     "name": "stdout",
     "output_type": "stream",
     "text": [
      "5 7 9 11 13 15 17 19 21 23 25 27 29 "
     ]
    }
   ],
   "source": [
    "#19. To display odd numbers from 5 to 30.\n",
    "for num in range(5, 31):\n",
    "    if num%2 != 0:  # Check if the number is odd\n",
    "        print(num, end=\" \")"
   ]
  },
  {
   "cell_type": "code",
   "execution_count": 25,
   "metadata": {},
   "outputs": [
    {
     "name": "stdout",
     "output_type": "stream",
     "text": [
      "The factorial of 5 is 120.\n"
     ]
    }
   ],
   "source": [
    "#20. To find factorial of a number inputted by the user.\n",
    "number = int(input(\"Enter a number to find its factorial: \"))\n",
    "factorial = 1\n",
    "if number < 0:\n",
    "    print(\"Factorial is not defined for negative numbers.\")\n",
    "elif number == 1:\n",
    "    print(\"Factorial of 1 is: 1\")\n",
    "else:\n",
    "    for i in range(1, number + 1):\n",
    "        factorial *= i\n",
    "    print(f\"The factorial of {number} is {factorial}.\")"
   ]
  },
  {
   "cell_type": "code",
   "execution_count": 26,
   "metadata": {},
   "outputs": [
    {
     "name": "stdout",
     "output_type": "stream",
     "text": [
      "The sum of the digits is: 7\n"
     ]
    }
   ],
   "source": [
    "#21. To find sum of digits of a int number.\n",
    "number = int(input(\"Enter an integer number: \"))\n",
    "digit_sum = 0\n",
    "while number > 0:\n",
    "    digit_sum += number%10 \n",
    "    number //= 10              \n",
    "print(f\"The sum of the digits is: {digit_sum}\")"
   ]
  },
  {
   "cell_type": "code",
   "execution_count": 27,
   "metadata": {},
   "outputs": [
    {
     "name": "stdout",
     "output_type": "stream",
     "text": [
      "The sum of even numbers between 30 and 50 is: 440\n"
     ]
    }
   ],
   "source": [
    "#22. To display sum of even numbers between 30 and 50.\n",
    "even_sum = 0\n",
    "for i in range(30, 51):\n",
    "    if i % 2 == 0: \n",
    "        even_sum += i\n",
    "print(f\"The sum of even numbers between 30 and 50 is: {even_sum}\")"
   ]
  },
  {
   "cell_type": "code",
   "execution_count": 28,
   "metadata": {},
   "outputs": [
    {
     "name": "stdout",
     "output_type": "stream",
     "text": [
      "4 x 1 = 4\n",
      "4 x 2 = 8\n",
      "4 x 3 = 12\n",
      "4 x 4 = 16\n",
      "4 x 5 = 20\n",
      "4 x 6 = 24\n",
      "4 x 7 = 28\n",
      "4 x 8 = 32\n",
      "4 x 9 = 36\n",
      "4 x 10 = 40\n"
     ]
    }
   ],
   "source": [
    "#23. To print multiplication table\n",
    "number = int(input(\"Enter a number to print its multiplication table: \"))\n",
    "for i in range(1, 11):\n",
    "    print(f\"{number} x {i} = {number * i}\")"
   ]
  },
  {
   "cell_type": "code",
   "execution_count": 29,
   "metadata": {},
   "outputs": [
    {
     "name": "stdout",
     "output_type": "stream",
     "text": [
      "1  \n",
      "1 2  \n",
      "1 2 3  \n",
      "1 2 3 4  \n"
     ]
    }
   ],
   "source": [
    "#24. To print the following patterns: (Numbers pattern)\n",
    "rows = int(input(\"Enter number of rows: \"))\n",
    "for i in range(1, rows+1):\n",
    "    for j in range(1, i+1):\n",
    "        print(j, end=\" \")\n",
    "    print(' ')"
   ]
  },
  {
   "cell_type": "code",
   "execution_count": 30,
   "metadata": {},
   "outputs": [
    {
     "name": "stdout",
     "output_type": "stream",
     "text": [
      "* \n",
      "* * \n",
      "* * * \n",
      "* * \n",
      "* \n"
     ]
    }
   ],
   "source": [
    "#25. To print the given star pattern\n",
    "rows = int(input(\"Enter the number of rows for the first half: \"))\n",
    "for i in range(1, rows + 1):\n",
    "    print('* ' * i)\n",
    "for j in range(rows - 1, 0, -1):\n",
    "    print('* ' * j)"
   ]
  },
  {
   "cell_type": "code",
   "execution_count": 31,
   "metadata": {},
   "outputs": [
    {
     "name": "stdout",
     "output_type": "stream",
     "text": [
      "A \n",
      "B B \n",
      "C C C \n"
     ]
    }
   ],
   "source": [
    "#26. To print Alphabets pattern\n",
    "rows = 3\n",
    "for i in range(65, rows+65):\n",
    "    for j in range(65, i+1):\n",
    "        print(chr(i), end=\" \")\n",
    "    print()"
   ]
  },
  {
   "cell_type": "code",
   "execution_count": 32,
   "metadata": {},
   "outputs": [
    {
     "name": "stdout",
     "output_type": "stream",
     "text": [
      "556655 is not an Armstrong number.\n"
     ]
    }
   ],
   "source": [
    "#27. To find whether given number is an Armstrong Number\n",
    "num = int(input(\"Enter a positive integer: \"))\n",
    "str_num = str(num)\n",
    "n = len(str_num)\n",
    "sum_powers = 0\n",
    "for d in str_num:\n",
    "    sum_powers += int(d) ** n\n",
    "if sum_powers == num:\n",
    "    print(f\"{num} is an Armstrong number.\")\n",
    "else:\n",
    "    print(f\"{num} is not an Armstrong number.\")"
   ]
  },
  {
   "cell_type": "code",
   "execution_count": 33,
   "metadata": {},
   "outputs": [
    {
     "name": "stdout",
     "output_type": "stream",
     "text": [
      "Fibonacci series:\n",
      "0 1 1 2 3 5 8 13 \n"
     ]
    }
   ],
   "source": [
    "#28. To generate the Fibonacci series up to n terms.\n",
    "n = int(input(\"Enter the number of terms for the Fibonacci series: \"))\n",
    "f1, f2 = 0, 1\n",
    "if n <= 0:\n",
    "    print(\"Please enter a positive integer.\")\n",
    "elif n == 1:\n",
    "    print(f\"Fibonacci series up to {n} term: {f1}\")\n",
    "else:\n",
    "    print(\"Fibonacci series:\")\n",
    "    print(f1, end=' ') \n",
    "    print(f2, end=' ') \n",
    "    for _ in range(2, n):\n",
    "        f3 = f1 + f2  \n",
    "        print(f3, end=' ')  \n",
    "        f1, f2 = f2, f3  \n",
    "\n",
    "    print() "
   ]
  },
  {
   "cell_type": "code",
   "execution_count": 34,
   "metadata": {},
   "outputs": [
    {
     "name": "stdout",
     "output_type": "stream",
     "text": [
      "7 is a prime number.\n"
     ]
    }
   ],
   "source": [
    "#29. To check whether a number is prime number or not.\n",
    "num = int(input(\"Enter a positive integer: \"))\n",
    "if num < 2:\n",
    "    print(f\"{num} is not a prime number.\")\n",
    "else:\n",
    "    is_prime = True  \n",
    "    for i in range(2, int(num**0.5) + 1):\n",
    "        if num % i == 0:  \n",
    "            is_prime = False \n",
    "            break \n",
    "    if is_prime:\n",
    "        print(f\"{num} is a prime number.\")\n",
    "    else:\n",
    "        print(f\"{num} is not a prime number.\")"
   ]
  },
  {
   "cell_type": "code",
   "execution_count": 35,
   "metadata": {},
   "outputs": [
    {
     "name": "stdout",
     "output_type": "stream",
     "text": [
      "Sum of the array: 15\n",
      "Average of the array: 3.0\n"
     ]
    }
   ],
   "source": [
    "#30. To calculate sum and average of a given array: arr=(‘i’,[1,2,3,4,5])\n",
    "import array\n",
    "arr = array.array('i', [1, 2, 3, 4, 5])\n",
    "total_sum = sum(arr)\n",
    "average = total_sum / len(arr)\n",
    "print(f\"Sum of the array: {total_sum}\")\n",
    "print(f\"Average of the array: {average}\")"
   ]
  },
  {
   "cell_type": "code",
   "execution_count": 43,
   "metadata": {},
   "outputs": [
    {
     "name": "stdout",
     "output_type": "stream",
     "text": [
      "Original array: [8, 9, 7]\n",
      "Reversed array: [7, 9, 8]\n"
     ]
    }
   ],
   "source": [
    "#31. To reverse the order of the items in the array.\n",
    "import array\n",
    "n = int(input(\"Enter the number of elements in the array: \"))\n",
    "arr = array.array('i', [])\n",
    "for _ in range(n):\n",
    "    element = int(input(\"Enter an element: \"))\n",
    "    arr.append(element)\n",
    "print(\"Original array:\", list(arr)) \n",
    "arr.reverse()\n",
    "print(\"Reversed array:\", list(arr))  "
   ]
  },
  {
   "cell_type": "code",
   "execution_count": 45,
   "metadata": {},
   "outputs": [
    {
     "name": "stdout",
     "output_type": "stream",
     "text": [
      "Original array: array('i', [1, 2, 2, 3, 4, 4])\n",
      "Array after removing duplicates: array('i', [1, 2, 3, 4])\n"
     ]
    }
   ],
   "source": [
    "#32. To remove duplicate elements in a given array of integers\n",
    "n = int(input(\"Enter the number of elements in the array: \"))\n",
    "arr = array.array('i', [])\n",
    "for _ in range(n):\n",
    "    element = int(input(\"Enter an element: \"))\n",
    "    arr.append(element)\n",
    "print(\"Original array:\", arr)\n",
    "unique_elements = set(arr)\n",
    "arr = array.array('i', unique_elements)\n",
    "arr = array.array('i', sorted(arr))\n",
    "print(\"Array after removing duplicates:\", arr)"
   ]
  },
  {
   "cell_type": "code",
   "execution_count": 46,
   "metadata": {},
   "outputs": [
    {
     "name": "stdout",
     "output_type": "stream",
     "text": [
      "Reversed string: ysae si nohtyP\n"
     ]
    }
   ],
   "source": [
    "#33. To take a string as input and print it in reverse order.\n",
    "input_string = input(\"Enter a string: \")\n",
    "reversed_string = input_string[::-1]\n",
    "print(\"Reversed string:\", reversed_string)"
   ]
  },
  {
   "cell_type": "code",
   "execution_count": 47,
   "metadata": {},
   "outputs": [
    {
     "name": "stdout",
     "output_type": "stream",
     "text": [
      "Number of vowels in the given string: 3\n"
     ]
    }
   ],
   "source": [
    "#34. To count the number of vowels in a given string.\n",
    "input_string = input(\"Enter a string: \")\n",
    "vowels = \"aeiouAEIOU\"\n",
    "vowel_count = 0\n",
    "for char in input_string:\n",
    "    if char in vowels:\n",
    "        vowel_count += 1\n",
    "print(\"Number of vowels in the given string:\", vowel_count)"
   ]
  },
  {
   "cell_type": "code",
   "execution_count": 49,
   "metadata": {},
   "outputs": [
    {
     "name": "stdout",
     "output_type": "stream",
     "text": [
      "'uuuiiiuuu' is a palindrome.\n"
     ]
    }
   ],
   "source": [
    "#35. To check waether the string is palindrome.\n",
    "input_string = input(\"Enter a string: \")\n",
    "cleaned_string = input_string.replace(\" \", \"\").lower()\n",
    "if cleaned_string == cleaned_string[::-1]:\n",
    "    print(f\"'{input_string}' is a palindrome.\")\n",
    "else:\n",
    "    print(f\"'{input_string}' is not a palindrome.\")"
   ]
  },
  {
   "cell_type": "code",
   "execution_count": 51,
   "metadata": {},
   "outputs": [
    {
     "name": "stdout",
     "output_type": "stream",
     "text": [
      "String after removing duplicates: helo wrd\n"
     ]
    }
   ],
   "source": [
    "#36. To remove duplicate characters from a string.\n",
    "input_string = input(\"Enter a string: \")\n",
    "unique_string = \"\"\n",
    "for char in input_string:\n",
    "    if char not in unique_string:\n",
    "        unique_string += char \n",
    "print(\"String after removing duplicates:\", unique_string)"
   ]
  },
  {
   "cell_type": "code",
   "execution_count": 56,
   "metadata": {},
   "outputs": [
    {
     "name": "stdout",
     "output_type": "stream",
     "text": [
      "Even length words: woww this is awsome\n"
     ]
    }
   ],
   "source": [
    "#37. To print even length words in string\n",
    "input_string = input(\"Enter a string: \")\n",
    "words = input_string.split()\n",
    "even_length_words = []\n",
    "for word in words:\n",
    "    if len(word) % 2 == 0:\n",
    "        even_length_words.append(word)\n",
    "print(\"Even length words:\", ' '.join(even_length_words))"
   ]
  },
  {
   "cell_type": "code",
   "execution_count": 57,
   "metadata": {},
   "outputs": [
    {
     "name": "stdout",
     "output_type": "stream",
     "text": [
      "String after removing spaces: yesitisveryhard\n"
     ]
    }
   ],
   "source": [
    "#38. To remove spaces from given string.\n",
    "input_string = input(\"Enter a string: \")\n",
    "no_spaces_string = ''.join(input_string.split())\n",
    "print(\"String after removing spaces:\", no_spaces_string)"
   ]
  },
  {
   "cell_type": "code",
   "execution_count": 58,
   "metadata": {},
   "outputs": [
    {
     "name": "stdout",
     "output_type": "stream",
     "text": [
      "Converted string: ABCDE\n"
     ]
    }
   ],
   "source": [
    "#39. To convert given list of ASCII value to string. [65, 66, 67, 68, 69].\n",
    "ascii_values = [65, 66, 67, 68, 69]\n",
    "result_string = ''.join(chr(value) for value in ascii_values)\n",
    "print(\"Converted string:\", result_string)"
   ]
  },
  {
   "cell_type": "code",
   "execution_count": 59,
   "metadata": {},
   "outputs": [
    {
     "name": "stdout",
     "output_type": "stream",
     "text": [
      "N-o-t- -m-y- -f-a-u-l-t\n"
     ]
    }
   ],
   "source": [
    "#40. To print the individual characters of the string inputted by user.\n",
    "user_input = input(\"Enter a string: \")\n",
    "result = \"\"\n",
    "for i in range(len(user_input)):\n",
    "    result += user_input[i]\n",
    "    if i < len(user_input) - 1:\n",
    "        result += \"-\"\n",
    "print(result)"
   ]
  }
 ],
 "metadata": {
  "kernelspec": {
   "display_name": ".venv",
   "language": "python",
   "name": "python3"
  },
  "language_info": {
   "codemirror_mode": {
    "name": "ipython",
    "version": 3
   },
   "file_extension": ".py",
   "mimetype": "text/x-python",
   "name": "python",
   "nbconvert_exporter": "python",
   "pygments_lexer": "ipython3",
   "version": "3.12.6"
  }
 },
 "nbformat": 4,
 "nbformat_minor": 2
}
